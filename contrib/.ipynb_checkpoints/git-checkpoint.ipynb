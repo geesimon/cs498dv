{
 "cells": [
  {
   "cell_type": "code",
   "execution_count": 13,
   "metadata": {
    "collapsed": true
   },
   "outputs": [],
   "source": [
    "import os\n",
    "import subprocess\n",
    "from datetime import datetime\n",
    "\n",
    "git_path='C:\\\\Users\\\\geesi\\\\Desktop\\\\BQ\\\\mall-root'"
   ]
  },
  {
   "cell_type": "code",
   "execution_count": 14,
   "metadata": {
    "collapsed": true
   },
   "outputs": [],
   "source": [
    "os.chdir(git_path)\n",
    "result = subprocess.run(['git','log', 'master', \n",
    "                            '--pretty=format:\"%H,%cn,%ce,%ct\"', \n",
    "                            '--numstat', '--no-merges'], stdout=subprocess.PIPE)"
   ]
  },
  {
   "cell_type": "code",
   "execution_count": 15,
   "metadata": {},
   "outputs": [],
   "source": [
    "raw_output = result.stdout\n",
    "raw_output = raw_output.decode('utf-8')\n",
    "commit_lines = raw_output.split('\\n')"
   ]
  },
  {
   "cell_type": "code",
   "execution_count": 84,
   "metadata": {},
   "outputs": [],
   "source": [
    "#def insert_commit(dbcon, hash_value, name_value, email_value, date_value, insert_value, delete_value, files_value):\n",
    "def insert_commit(dbcon, commit):    \n",
    "    with dbcon.cursor() as cursor:\n",
    "        sql = \"INSERT INTO commit (`hash`, `user`, `email`, `commit_date`, `insert`, `delete`, `files`)\\\n",
    "        VALUES (%s, %s, %s, %s, %s, %s, %s)\"\n",
    "        cursor.execute(sql, commit)\n",
    "        dbcon.commit()"
   ]
  },
  {
   "cell_type": "code",
   "execution_count": 86,
   "metadata": {},
   "outputs": [
    {
     "name": "stderr",
     "output_type": "stream",
     "text": [
      "\n",
      "  0%|                                                                                          | 0/100 [00:00<?, ?it/s]\n",
      " 11%|████████▉                                                                        | 11/100 [00:00<00:00, 96.55it/s]\n",
      " 17%|█████████████▊                                                                   | 17/100 [00:00<00:01, 79.38it/s]\n",
      " 32%|█████████████████████████▉                                                       | 32/100 [00:00<00:00, 85.34it/s]\n",
      " 44%|███████████████████████████████████▋                                             | 44/100 [00:00<00:00, 86.96it/s]\n",
      " 56%|█████████████████████████████████████████████▎                                   | 56/100 [00:00<00:00, 91.76it/s]\n",
      " 66%|█████████████████████████████████████████████████████▍                           | 66/100 [00:00<00:00, 89.31it/s]\n",
      " 79%|███████████████████████████████████████████████████████████████▉                 | 79/100 [00:00<00:00, 98.35it/s]\n",
      " 97%|█████████████████████████████████████████████████████████████████████████████▌  | 97/100 [00:00<00:00, 113.64it/s]\n",
      "100%|███████████████████████████████████████████████████████████████████████████████| 100/100 [00:00<00:00, 103.26it/s]"
     ]
    },
    {
     "name": "stdout",
     "output_type": "stream",
     "text": [
      "26\n"
     ]
    }
   ],
   "source": [
    "import pymysql\n",
    "from tqdm import tqdm\n",
    "\n",
    "con = pymysql.connect(host=\"localhost\", user=\"giter\", passwd=\"giter=01\", db=\"gitwork\", charset=\"utf8\")\n",
    "\n",
    "# {'hash':'', 'user':'', 'email':'', 'commit_date':0, 'insert':0, 'delete':0, 'files':0}\n",
    "commit_summary = [i for i in range(7)]\n",
    "changes = []\n",
    "commit_num = 0\n",
    "in_analyzing_changes = False\n",
    "\n",
    "#pre_line = ''\n",
    "for line in tqdm(commit_lines[0:100]):\n",
    "    if len(line) == 0:\n",
    "        if in_analyzing_changes:\n",
    "            insert_commit(con, commit_summary)\n",
    "            #insert_changes(con, changes)\n",
    "            commit_num += 1\n",
    "            in_analyzing_changes = False\n",
    "    else:\n",
    "        if not in_analyzing_changes:\n",
    "            commit_summary[0:4] = line.strip('\"').split(',')\n",
    "            commit_summary[3] = datetime.fromtimestamp(int(commit_summary[3]))\n",
    "            commit_summary[4:7] = [0, 0, 0]\n",
    "            in_analyzing_changes = True\n",
    "            changes = []\n",
    "        else:\n",
    "            c = line.split('\\t')\n",
    "            if len(c) == 3:\n",
    "                commit_summary[4] += int(c[0]) if c[0] != '-' else 0\n",
    "                commit_summary[5] += int(c[1]) if c[0] != '-' else 0\n",
    "                commit_summary[6] += 1\n",
    "                changes.append(c)\n",
    "            else:  #In case the previous commit log has no change\n",
    "                #print('Found empty commit %s'%(pre_line))\n",
    "                insert_commit(con, commit_summary)\n",
    "                commit_num += 1\n",
    "                commit_summary[0:4] = line.strip('\"').split(',')\n",
    "                commit_summary[4:7] = [0, 0, 0]\n",
    "        \n",
    "    #pre_line = line\n",
    "\n",
    "if in_analyzing_changes:\n",
    "    insert_commit(con, commit_summary)\n",
    "    commit_num += 1"
   ]
  },
  {
   "cell_type": "markdown",
   "metadata": {},
   "source": [
    "import pymysql\n",
    "from tqdm import tqdm\n",
    "\n",
    "con = pymysql.connect(host=\"localhost\", user=\"giter\", passwd=\"giter=01\", db=\"gitwork\", charset=\"utf8\")\n",
    "\n",
    "i = 0\n",
    "pbar = tqdm(total=len(all_lines))\n",
    "\n",
    "while i < len(all_lines):\n",
    "    old_i = i\n",
    "    if len(all_lines[i]) != 0:\n",
    "        hash_, name_, email_, date_ = all_lines[i].strip('\"').split(',')\n",
    "        date_ = datetime.fromtimestamp(int(date_))\n",
    "        i += 1\n",
    "        \n",
    "        all_insert = 0\n",
    "        all_delete = 0\n",
    "        all_file = 0\n",
    "        while len(all_lines[i]) > 0:\n",
    "            changes = all_lines[i].split('\\t')\n",
    "            if len(changes) == 3:\n",
    "                insert_, delete_, filename_ = changes\n",
    "                #print(insert_)\n",
    "                all_insert += int(insert_) if insert_ != '-' else 0\n",
    "                all_delete += int(delete_) if delete_ != '-' else 0\n",
    "                all_file += 1\n",
    "                \n",
    "                i += 1\n",
    "            else:\n",
    "                break\n",
    "        insert_commit(con, hash_, name_, email_, date_, all_insert, all_delete, all_file)\n",
    "        \n",
    "        pbar.update(i - old_i)\n",
    "        old_i = i\n",
    "        \n",
    "    if len(all_lines[i]) == 0:\n",
    "        i += 1\n",
    "\n",
    "con.close()"
   ]
  },
  {
   "cell_type": "markdown",
   "metadata": {},
   "source": [
    "import pymysql\n",
    "\n",
    "hash_ = '2349284732987432974'\n",
    "name_ = u'纪晓茗'\n",
    "email_ = 'simon@simon.com'\n",
    "all_insert = 0\n",
    "all_delete = 0\n",
    "all_file = 0\n",
    "date_ = '2018-1-1'\n",
    "\n",
    "con = pymysql.connect(host=\"localhost\", user=\"giter\", passwd=\"giter=01\", db=\"gitwork\", charset=\"utf8\")"
   ]
  },
  {
   "cell_type": "markdown",
   "metadata": {},
   "source": [
    "insert_commit(con, hash_, name_, email_, date_, all_insert, all_delete, all_file)"
   ]
  }
 ],
 "metadata": {
  "kernelspec": {
   "display_name": "Python 3",
   "language": "python",
   "name": "python3"
  },
  "language_info": {
   "codemirror_mode": {
    "name": "ipython",
    "version": 3
   },
   "file_extension": ".py",
   "mimetype": "text/x-python",
   "name": "python",
   "nbconvert_exporter": "python",
   "pygments_lexer": "ipython3",
   "version": "3.6.2"
  }
 },
 "nbformat": 4,
 "nbformat_minor": 2
}

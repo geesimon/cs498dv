{
 "cells": [
  {
   "cell_type": "code",
   "execution_count": 13,
   "metadata": {
    "collapsed": true
   },
   "outputs": [],
   "source": [
    "import os\n",
    "import subprocess\n",
    "from datetime import datetime\n",
    "\n",
    "git_path='C:\\\\Users\\\\geesi\\\\Desktop\\\\BQ\\\\mall-root'"
   ]
  },
  {
   "cell_type": "code",
   "execution_count": 14,
   "metadata": {
    "collapsed": true
   },
   "outputs": [],
   "source": [
    "os.chdir(git_path)\n",
    "result = subprocess.run(['git','log', 'master', \n",
    "                            '--pretty=format:\"%H,%cn,%ce,%ct\"', \n",
    "                            '--numstat', '--no-merges'], stdout=subprocess.PIPE)"
   ]
  },
  {
   "cell_type": "code",
   "execution_count": 15,
   "metadata": {},
   "outputs": [],
   "source": [
    "raw_output = result.stdout\n",
    "raw_output = raw_output.decode('utf-8')\n",
    "all_lines = raw_output.split('\\n')"
   ]
  },
  {
   "cell_type": "code",
   "execution_count": 16,
   "metadata": {},
   "outputs": [],
   "source": [
    "def insert_commit(dbcon, hash_value, name_value, email_value, date_value, insert_value, delete_value, files_value):\n",
    "    with dbcon.cursor() as cursor:\n",
    "        sql = \"INSERT INTO commit (`hash`, `user`, `email`, `commit_date`, `insert`, `delete`, `files`)\\\n",
    "        VALUES (%s, %s, %s, %s, %s, %s, %s)\"\n",
    "        cursor.execute(sql, (hash_value, name_value, email_value, date_value, insert_value, delete_value, files_value))\n",
    "        dbcon.commit()"
   ]
  },
  {
   "cell_type": "code",
   "execution_count": null,
   "metadata": {},
   "outputs": [
    {
     "name": "stderr",
     "output_type": "stream",
     "text": [
      "\n",
      "  0%|                                                                                        | 0/43526 [00:00<?, ?it/s]\n",
      "  0%|                                                                               | 11/43526 [00:00<08:22, 86.65it/s]\n",
      "  0%|                                                                               | 20/43526 [00:00<09:04, 79.94it/s]\n",
      "  0%|                                                                               | 26/43526 [00:00<11:09, 64.93it/s]\n",
      "  0%|                                                                               | 32/43526 [00:00<12:22, 58.55it/s]\n",
      "  0%|                                                                               | 38/43526 [00:00<13:09, 55.09it/s]\n",
      "  0%|                                                                               | 45/43526 [00:00<13:36, 53.22it/s]\n",
      "  0%|                                                                               | 55/43526 [00:00<12:25, 58.34it/s]\n",
      "  0%|                                                                               | 64/43526 [00:01<11:42, 61.87it/s]\n",
      "  0%|▏                                                                              | 76/43526 [00:01<10:46, 67.18it/s]\n",
      "  0%|▏                                                                              | 83/43526 [00:01<12:08, 59.66it/s]\n",
      "  0%|▏                                                                              | 91/43526 [00:01<19:41, 36.75it/s]\n",
      "  0%|▏                                                                             | 107/43526 [00:01<15:32, 46.55it/s]\n",
      "  0%|▏                                                                             | 115/43526 [00:02<15:24, 46.96it/s]\n",
      "  0%|▏                                                                             | 123/43526 [00:02<16:23, 44.12it/s]\n",
      "  0%|▏                                                                             | 134/43526 [00:02<13:44, 52.63it/s]\n",
      "  0%|▎                                                                             | 145/43526 [00:02<11:58, 60.34it/s]\n",
      "  0%|▎                                                                             | 154/43526 [00:02<11:23, 63.43it/s]\n",
      "  0%|▎                                                                             | 169/43526 [00:02<10:23, 69.58it/s]\n",
      "  0%|▎                                                                             | 178/43526 [00:02<10:12, 70.79it/s]\n",
      "  0%|▎                                                                             | 187/43526 [00:03<10:56, 66.00it/s]\n",
      "  0%|▎                                                                             | 195/43526 [00:03<13:04, 55.24it/s]\n",
      "  0%|▎                                                                             | 204/43526 [00:03<13:21, 54.05it/s]\n",
      "  0%|▍                                                                             | 214/43526 [00:03<11:42, 61.66it/s]\n",
      "  1%|▍                                                                             | 222/43526 [00:03<12:45, 56.54it/s]\n",
      "  1%|▍                                                                             | 234/43526 [00:03<11:11, 64.50it/s]\n",
      "  1%|▍                                                                             | 242/43526 [00:03<11:27, 62.99it/s]\n",
      "  1%|▍                                                                             | 251/43526 [00:04<12:14, 58.91it/s]\n",
      "  1%|▍                                                                             | 261/43526 [00:04<12:37, 57.08it/s]\n",
      "  1%|▍                                                                             | 269/43526 [00:04<12:53, 55.91it/s]\n",
      "  1%|▍                                                                             | 275/43526 [00:04<14:08, 50.98it/s]\n",
      "  1%|▌                                                                             | 281/43526 [00:04<14:04, 51.21it/s]\n",
      "  1%|▌                                                                             | 289/43526 [00:04<12:46, 56.44it/s]\n",
      "127847761it [14:20, 148653.85it/s]                                                 | 295/43526 [00:05<15:03, 47.85it/s]\n",
      " 26%|███████████████████▌                                                        | 11172/43526 [01:51<07:52, 68.44it/s]"
     ]
    }
   ],
   "source": [
    "import pymysql\n",
    "from tqdm import tqdm\n",
    "\n",
    "con = pymysql.connect(host=\"localhost\", user=\"giter\", passwd=\"giter=01\", db=\"gitwork\", charset=\"utf8\")\n",
    "\n",
    "i = 0\n",
    "pbar = tqdm(total=len(all_lines))\n",
    "while i < len(all_lines):\n",
    "    old_i = i\n",
    "    if len(all_lines[i]) != 0:\n",
    "        hash_, name_, email_, date_ = all_lines[i].strip('\"').split(',')\n",
    "        date_ = datetime.fromtimestamp(int(date_))\n",
    "        i += 1\n",
    "        \n",
    "        all_insert = 0\n",
    "        all_delete = 0\n",
    "        all_file = 0\n",
    "        while len(all_lines[i]) > 0:\n",
    "            changes = all_lines[i].split('\\t')\n",
    "            if len(changes) == 3:\n",
    "                insert_, delete_, filename_ = changes\n",
    "                #print(insert_)\n",
    "                all_insert += int(insert_) if insert_ != '-' else 0\n",
    "                all_delete += int(delete_) if delete_ != '-' else 0\n",
    "                all_file += 1\n",
    "                \n",
    "                i += 1\n",
    "            else:\n",
    "                break\n",
    "        insert_commit(con, hash_, name_, email_, date_, all_insert, all_delete, all_file)\n",
    "        \n",
    "        pbar.update(i - old_i)\n",
    "        old_i = i\n",
    "        \n",
    "    if len(all_lines[i]) == 0:\n",
    "        i += 1"
   ]
  },
  {
   "cell_type": "markdown",
   "metadata": {},
   "source": [
    "import pymysql\n",
    "\n",
    "hash_ = '2349284732987432974'\n",
    "name_ = u'纪晓茗'\n",
    "email_ = 'simon@simon.com'\n",
    "all_insert = 0\n",
    "all_delete = 0\n",
    "all_file = 0\n",
    "date_ = '2018-1-1'\n",
    "\n",
    "con = pymysql.connect(host=\"localhost\", user=\"giter\", passwd=\"giter=01\", db=\"gitwork\", charset=\"utf8\")"
   ]
  },
  {
   "cell_type": "markdown",
   "metadata": {},
   "source": [
    "insert_commit(con, hash_, name_, email_, date_, all_insert, all_delete, all_file)"
   ]
  }
 ],
 "metadata": {
  "kernelspec": {
   "display_name": "Python 3",
   "language": "python",
   "name": "python3"
  },
  "language_info": {
   "codemirror_mode": {
    "name": "ipython",
    "version": 3
   },
   "file_extension": ".py",
   "mimetype": "text/x-python",
   "name": "python",
   "nbconvert_exporter": "python",
   "pygments_lexer": "ipython3",
   "version": "3.6.2"
  }
 },
 "nbformat": 4,
 "nbformat_minor": 2
}

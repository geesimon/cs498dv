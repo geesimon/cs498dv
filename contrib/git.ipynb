{
 "cells": [
  {
   "cell_type": "code",
   "execution_count": 136,
   "metadata": {
    "collapsed": true
   },
   "outputs": [],
   "source": [
    "import os\n",
    "import subprocess\n",
    "from datetime import datetime\n",
    "\n",
    "\n",
    "Repositories = {\n",
    "    'mall-root': 'C:\\\\Users\\\\geesi\\\\Desktop\\\\BQ\\\\mall-root',\n",
    "    'bnq_root': 'C:\\\\Users\\\\geesi\\\\Desktop\\\\BQ\\\\bnq_root',\n",
    "    'bnq_owner_ios': 'C:\\\\Users\\\\geesi\\\\Desktop\\\\BQ\\\\bnq_owner_ios',\n",
    "}"
   ]
  },
  {
   "cell_type": "code",
   "execution_count": 139,
   "metadata": {},
   "outputs": [
    {
     "name": "stdout",
     "output_type": "stream",
     "text": [
      "mall-root C:\\Users\\geesi\\Desktop\\BQ\\mall-root\n",
      "bnq_root C:\\Users\\geesi\\Desktop\\BQ\\bnq_root\n",
      "bnq_owner_ios C:\\Users\\geesi\\Desktop\\BQ\\bnq_owner_ios\n"
     ]
    }
   ],
   "source": [
    "for project_name,git_path in Repositories.items():\n",
    "    print(project_name, git_path)"
   ]
  },
  {
   "cell_type": "code",
   "execution_count": 14,
   "metadata": {
    "collapsed": true
   },
   "outputs": [],
   "source": [
    "os.chdir(Repositories['mall-root'])\n",
    "result = subprocess.run(['git','log', 'master', \n",
    "                            '--pretty=format:\"%H,%cn,%ce,%ct\"', \n",
    "                            '--numstat', '--no-merges'], stdout=subprocess.PIPE)"
   ]
  },
  {
   "cell_type": "code",
   "execution_count": 89,
   "metadata": {},
   "outputs": [],
   "source": [
    "raw_output = result.stdout\n",
    "raw_output = raw_output.decode('utf-8')\n",
    "commit_lines = raw_output.split('\\n')"
   ]
  },
  {
   "cell_type": "code",
   "execution_count": 134,
   "metadata": {},
   "outputs": [],
   "source": [
    "def insert_commit(dbcon, commit, changes):\n",
    "    with dbcon.cursor() as cursor:\n",
    "        commit_sql = \"INSERT INTO commit (`hash`, `user`, `email`, `commit_date`, `insert`, `delete`, `files`)\\\n",
    "        VALUES (%s, %s, %s, %s, %s, %s, %s)\"\n",
    "        changes_sql = \"INSERT INTO file_changes (`commit_id`, `insert`, `delete`, `file_name`)\\\n",
    "        VALUES (%s, %s, %s, %s)\"\n",
    "        \n",
    "        cursor.execute(commit_sql, commit)\n",
    "        \n",
    "        change_values = [[cursor.lastrowid] + c for c in changes]\n",
    "        cursor.executemany(changes_sql, change_values)\n",
    "        \n",
    "        dbcon.commit()"
   ]
  },
  {
   "cell_type": "code",
   "execution_count": 135,
   "metadata": {},
   "outputs": [
    {
     "name": "stderr",
     "output_type": "stream",
     "text": [
      "\n",
      "  0%|                                                                                          | 0/100 [00:00<?, ?it/s]\n",
      " 11%|████████▉                                                                        | 11/100 [00:00<00:01, 54.76it/s]\n",
      " 20%|████████████████▏                                                                | 20/100 [00:00<00:01, 61.67it/s]\n",
      " 32%|█████████████████████████▉                                                       | 32/100 [00:00<00:00, 71.18it/s]\n",
      " 41%|█████████████████████████████████▏                                               | 41/100 [00:00<00:00, 75.76it/s]\n",
      " 50%|████████████████████████████████████████▌                                        | 50/100 [00:00<00:00, 78.30it/s]\n",
      " 63%|███████████████████████████████████████████████████                              | 63/100 [00:00<00:00, 83.45it/s]\n",
      " 76%|█████████████████████████████████████████████████████████████▌                   | 76/100 [00:00<00:00, 93.10it/s]\n",
      " 88%|███████████████████████████████████████████████████████████████████████▎         | 88/100 [00:00<00:00, 98.11it/s]\n",
      "100%|████████████████████████████████████████████████████████████████████████████████| 100/100 [00:01<00:00, 97.33it/s]"
     ]
    },
    {
     "name": "stdout",
     "output_type": "stream",
     "text": [
      "Total 26 commits processed\n"
     ]
    }
   ],
   "source": [
    "import pymysql\n",
    "from tqdm import tqdm\n",
    "\n",
    "def parse_commit_line(commit_line, summary):\n",
    "    summary[0:4] = commit_line.strip('\"').split(',')\n",
    "    summary[3] = datetime.fromtimestamp(int(summary[3]))\n",
    "    summary[4:7] = [0, 0, 0]\n",
    "\n",
    "con = pymysql.connect(host=\"localhost\", user=\"giter\", passwd=\"giter=01\", db=\"gitwork\", charset=\"utf8\")\n",
    "\n",
    "# {'hash':'', 'user':'', 'email':'', 'commit_date':0, 'insert':0, 'delete':0, 'files':0}\n",
    "commit_summary = [i for i in range(7)]\n",
    "changes = []\n",
    "commit_num = 0\n",
    "in_analyzing_changes = False\n",
    "\n",
    "for line in tqdm(commit_lines[0:100]):\n",
    "    if len(line) == 0:\n",
    "        if in_analyzing_changes:\n",
    "            insert_commit(con, commit_summary, changes)\n",
    "            commit_num += 1\n",
    "            in_analyzing_changes = False\n",
    "    else:\n",
    "        if not in_analyzing_changes:\n",
    "            parse_commit_line(line, commit_summary)\n",
    "            in_analyzing_changes = True\n",
    "            changes = []\n",
    "        else:\n",
    "            c = line.split('\\t')\n",
    "            if len(c) == 3:\n",
    "                c[0] = int(c[0]) if c[0] != '-' else 0\n",
    "                c[1] = int(c[1]) if c[1] != '-' else 0\n",
    "                commit_summary[4] += c[0]\n",
    "                commit_summary[5] += c[0]\n",
    "                commit_summary[6] += 1\n",
    "                changes.append(c)\n",
    "            else:  #In case the previous commit log has no change\n",
    "                insert_commit(con, commit_summary, changes)\n",
    "                commit_num += 1\n",
    "                parse_commit_line(line, commit_summary)\n",
    "            \n",
    "if in_analyzing_changes:\n",
    "    insert_commit(con, commit_summary, changes)\n",
    "    commit_num += 1\n",
    "    \n",
    "print('Total %d commits processed'%commit_num)"
   ]
  },
  {
   "cell_type": "markdown",
   "metadata": {},
   "source": [
    "import pymysql\n",
    "from tqdm import tqdm\n",
    "\n",
    "con = pymysql.connect(host=\"localhost\", user=\"giter\", passwd=\"giter=01\", db=\"gitwork\", charset=\"utf8\")\n",
    "\n",
    "i = 0\n",
    "pbar = tqdm(total=len(all_lines))\n",
    "\n",
    "while i < len(all_lines):\n",
    "    old_i = i\n",
    "    if len(all_lines[i]) != 0:\n",
    "        hash_, name_, email_, date_ = all_lines[i].strip('\"').split(',')\n",
    "        date_ = datetime.fromtimestamp(int(date_))\n",
    "        i += 1\n",
    "        \n",
    "        all_insert = 0\n",
    "        all_delete = 0\n",
    "        all_file = 0\n",
    "        while len(all_lines[i]) > 0:\n",
    "            changes = all_lines[i].split('\\t')\n",
    "            if len(changes) == 3:\n",
    "                insert_, delete_, filename_ = changes\n",
    "                #print(insert_)\n",
    "                all_insert += int(insert_) if insert_ != '-' else 0\n",
    "                all_delete += int(delete_) if delete_ != '-' else 0\n",
    "                all_file += 1\n",
    "                \n",
    "                i += 1\n",
    "            else:\n",
    "                break\n",
    "        insert_commit(con, hash_, name_, email_, date_, all_insert, all_delete, all_file)\n",
    "        \n",
    "        pbar.update(i - old_i)\n",
    "        old_i = i\n",
    "        \n",
    "    if len(all_lines[i]) == 0:\n",
    "        i += 1\n",
    "\n",
    "con.close()"
   ]
  },
  {
   "cell_type": "markdown",
   "metadata": {},
   "source": [
    "import pymysql\n",
    "\n",
    "hash_ = '2349284732987432974'\n",
    "name_ = u'纪晓茗'\n",
    "email_ = 'simon@simon.com'\n",
    "all_insert = 0\n",
    "all_delete = 0\n",
    "all_file = 0\n",
    "date_ = '2018-1-1'\n",
    "\n",
    "con = pymysql.connect(host=\"localhost\", user=\"giter\", passwd=\"giter=01\", db=\"gitwork\", charset=\"utf8\")"
   ]
  },
  {
   "cell_type": "markdown",
   "metadata": {},
   "source": [
    "insert_commit(con, hash_, name_, email_, date_, all_insert, all_delete, all_file)"
   ]
  }
 ],
 "metadata": {
  "kernelspec": {
   "display_name": "Python 3",
   "language": "python",
   "name": "python3"
  },
  "language_info": {
   "codemirror_mode": {
    "name": "ipython",
    "version": 3
   },
   "file_extension": ".py",
   "mimetype": "text/x-python",
   "name": "python",
   "nbconvert_exporter": "python",
   "pygments_lexer": "ipython3",
   "version": "3.6.2"
  }
 },
 "nbformat": 4,
 "nbformat_minor": 2
}

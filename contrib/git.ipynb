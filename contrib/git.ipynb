{
 "cells": [
  {
   "cell_type": "code",
   "execution_count": 13,
   "metadata": {
    "collapsed": true
   },
   "outputs": [],
   "source": [
    "import os\n",
    "import subprocess\n",
    "from datetime import datetime\n",
    "\n",
    "git_path='C:\\\\Users\\\\geesi\\\\Desktop\\\\BQ\\\\mall-root'"
   ]
  },
  {
   "cell_type": "code",
   "execution_count": 14,
   "metadata": {
    "collapsed": true
   },
   "outputs": [],
   "source": [
    "os.chdir(git_path)\n",
    "result = subprocess.run(['git','log', 'master', \n",
    "                            '--pretty=format:\"%H,%cn,%ce,%ct\"', \n",
    "                            '--numstat', '--no-merges'], stdout=subprocess.PIPE)"
   ]
  },
  {
   "cell_type": "code",
   "execution_count": 15,
   "metadata": {},
   "outputs": [],
   "source": [
    "raw_output = result.stdout\n",
    "raw_output = raw_output.decode('utf-8')\n",
    "all_lines = raw_output.split('\\n')"
   ]
  },
  {
   "cell_type": "code",
   "execution_count": 16,
   "metadata": {},
   "outputs": [],
   "source": [
    "def insert_commit(dbcon, hash_value, name_value, email_value, date_value, insert_value, delete_value, files_value):\n",
    "    with dbcon.cursor() as cursor:\n",
    "        sql = \"INSERT INTO commit (`hash`, `user`, `email`, `commit_date`, `insert`, `delete`, `files`)\\\n",
    "        VALUES (%s, %s, %s, %s, %s, %s, %s)\"\n",
    "        cursor.execute(sql, (hash_value, name_value, email_value, date_value, insert_value, delete_value, files_value))\n",
    "        dbcon.commit()"
   ]
  },
  {
   "cell_type": "code",
   "execution_count": 18,
   "metadata": {},
   "outputs": [
    {
     "data": {
      "text/plain": [
       "43526"
      ]
     },
     "execution_count": 18,
     "metadata": {},
     "output_type": "execute_result"
    }
   ],
   "source": [
    "len(all_lines)"
   ]
  },
  {
   "cell_type": "code",
   "execution_count": 17,
   "metadata": {},
   "outputs": [
    {
     "name": "stderr",
     "output_type": "stream",
     "text": [
      "127847761it [05:10, 684312.67it/s]                                                                                     "
     ]
    }
   ],
   "source": [
    "import pymysql\n",
    "from tqdm import tqdm\n",
    "\n",
    "con = pymysql.connect(host=\"localhost\", user=\"giter\", passwd=\"giter=01\", db=\"gitwork\", charset=\"utf8\")\n",
    "\n",
    "i = 0\n",
    "pbar = tqdm(total=len(all_lines))\n",
    "while i < len(all_lines):\n",
    "    if len(all_lines[i]) != 0:\n",
    "        hash_, name_, email_, date_ = all_lines[i].strip('\"').split(',')\n",
    "        date_ = datetime.fromtimestamp(int(date_))\n",
    "        i += 1\n",
    "        \n",
    "        all_insert = 0\n",
    "        all_delete = 0\n",
    "        all_file = 0\n",
    "        while len(all_lines[i]) > 0:\n",
    "            changes = all_lines[i].split('\\t')\n",
    "            if len(changes) == 3:\n",
    "                insert_, delete_, filename_ = changes\n",
    "                #print(insert_)\n",
    "                all_insert += int(insert_) if insert_ != '-' else 0\n",
    "                all_delete += int(delete_) if delete_ != '-' else 0\n",
    "                all_file += 1\n",
    "                \n",
    "                i += 1\n",
    "            else:\n",
    "                break\n",
    "        insert_commit(con, hash_, name_, email_, date_, all_insert, all_delete, all_file)\n",
    "        pbar.update(i)\n",
    "        \n",
    "    if len(all_lines[i]) == 0:\n",
    "        i += 1"
   ]
  },
  {
   "cell_type": "code",
   "execution_count": 11,
   "metadata": {},
   "outputs": [],
   "source": [
    "import pymysql\n",
    "\n",
    "hash_ = '2349284732987432974'\n",
    "name_ = u'纪晓茗'\n",
    "email_ = 'simon@simon.com'\n",
    "all_insert = 0\n",
    "all_delete = 0\n",
    "all_file = 0\n",
    "date_ = '2018-1-1'\n",
    "\n",
    "con = pymysql.connect(host=\"localhost\", user=\"giter\", passwd=\"giter=01\", db=\"gitwork\", charset=\"utf8\")"
   ]
  },
  {
   "cell_type": "code",
   "execution_count": 12,
   "metadata": {},
   "outputs": [],
   "source": [
    "insert_commit(con, hash_, name_, email_, date_, all_insert, all_delete, all_file)"
   ]
  }
 ],
 "metadata": {
  "kernelspec": {
   "display_name": "Python 3",
   "language": "python",
   "name": "python3"
  },
  "language_info": {
   "codemirror_mode": {
    "name": "ipython",
    "version": 3
   },
   "file_extension": ".py",
   "mimetype": "text/x-python",
   "name": "python",
   "nbconvert_exporter": "python",
   "pygments_lexer": "ipython3",
   "version": "3.6.2"
  }
 },
 "nbformat": 4,
 "nbformat_minor": 2
}
